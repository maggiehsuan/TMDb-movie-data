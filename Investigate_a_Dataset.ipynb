{
 "cells": [
  {
   "cell_type": "markdown",
   "metadata": {},
   "source": [
    "> **Tip**: Welcome to the Investigate a Dataset project! You will find tips in quoted sections like this to help organize your approach to your investigation. Before submitting your project, it will be a good idea to go back through your report and remove these sections to make the presentation of your work as tidy as possible. First things first, you might want to double-click this Markdown cell and change the title so that it reflects your dataset and investigation.\n",
    "\n",
    "# Project: Investigate a Dataset (Replace this with something more specific!)\n",
    "\n",
    "## Table of Contents\n",
    "<ul>\n",
    "<li><a href=\"#intro\">Introduction</a></li>\n",
    "<li><a href=\"#wrangling\">Data Wrangling</a></li>\n",
    "<li><a href=\"#eda\">Exploratory Data Analysis</a></li>\n",
    "<li><a href=\"#conclusions\">Conclusions</a></li>\n",
    "</ul>"
   ]
  },
  {
   "cell_type": "markdown",
   "metadata": {},
   "source": [
    "<a id='intro'></a>\n",
    "## Introduction\n",
    "\n",
    "> **Tip**: In this section of the report, provide a brief introduction to the dataset you've selected for analysis. At the end of this section, describe the questions that you plan on exploring over the course of the report. Try to build your report around the analysis of at least one dependent variable and three independent variables. If you're not sure what questions to ask, then make sure you familiarize yourself with the dataset, its variables and the dataset context for ideas of what to explore.\n",
    "\n",
    "> If you haven't yet selected and downloaded your data, make sure you do that first before coming back here. In order to work with the data in this workspace, you also need to upload it to the workspace. To do so, click on the jupyter icon in the upper left to be taken back to the workspace directory. There should be an 'Upload' button in the upper right that will let you add your data file(s) to the workspace. You can then click on the .ipynb file name to come back here."
   ]
  },
  {
   "cell_type": "code",
   "execution_count": 550,
   "metadata": {},
   "outputs": [],
   "source": [
    "# Use this cell to set up import statements for all of the packages that you\n",
    "#   plan to use.\n",
    "import pandas as pd\n",
    "import numpy as np\n",
    "import matplotlib.pyplot as plt\n",
    "% matplotlib inline\n",
    "\n",
    "df = pd.read_csv('tmdb-movies.csv')\n",
    "\n",
    "# Remember to include a 'magic word' so that your visualizations are plotted\n",
    "#   inline with the notebook. See this page for more:\n",
    "#   http://ipython.readthedocs.io/en/stable/interactive/magics.html\n"
   ]
  },
  {
   "cell_type": "markdown",
   "metadata": {},
   "source": [
    "<a id='wrangling'></a>\n",
    "## Data Wrangling\n",
    "\n",
    "> **Tip**: In this section of the report, you will load in the data, check for cleanliness, and then trim and clean your dataset for analysis. Make sure that you document your steps carefully and justify your cleaning decisions.\n",
    "\n",
    "### General Properties"
   ]
  },
  {
   "cell_type": "code",
   "execution_count": 551,
   "metadata": {
    "scrolled": false
   },
   "outputs": [
    {
     "name": "stdout",
     "output_type": "stream",
     "text": [
      "<class 'pandas.core.frame.DataFrame'>\n",
      "RangeIndex: 10866 entries, 0 to 10865\n",
      "Data columns (total 21 columns):\n",
      "id                      10866 non-null int64\n",
      "imdb_id                 10856 non-null object\n",
      "popularity              10866 non-null float64\n",
      "budget                  10866 non-null int64\n",
      "revenue                 10866 non-null int64\n",
      "original_title          10866 non-null object\n",
      "cast                    10790 non-null object\n",
      "homepage                2936 non-null object\n",
      "director                10822 non-null object\n",
      "tagline                 8042 non-null object\n",
      "keywords                9373 non-null object\n",
      "overview                10862 non-null object\n",
      "runtime                 10866 non-null int64\n",
      "genres                  10843 non-null object\n",
      "production_companies    9836 non-null object\n",
      "release_date            10866 non-null object\n",
      "vote_count              10866 non-null int64\n",
      "vote_average            10866 non-null float64\n",
      "release_year            10866 non-null int64\n",
      "budget_adj              10866 non-null float64\n",
      "revenue_adj             10866 non-null float64\n",
      "dtypes: float64(4), int64(6), object(11)\n",
      "memory usage: 1.7+ MB\n"
     ]
    }
   ],
   "source": [
    "# Load your data and print out a few lines. Perform operations to inspect data\n",
    "#   types and look for instances of missing or possibly errant data.\n",
    "df.info() # Inspecting Data Types"
   ]
  },
  {
   "cell_type": "code",
   "execution_count": 552,
   "metadata": {},
   "outputs": [
    {
     "data": {
      "text/html": [
       "<div>\n",
       "<style>\n",
       "    .dataframe thead tr:only-child th {\n",
       "        text-align: right;\n",
       "    }\n",
       "\n",
       "    .dataframe thead th {\n",
       "        text-align: left;\n",
       "    }\n",
       "\n",
       "    .dataframe tbody tr th {\n",
       "        vertical-align: top;\n",
       "    }\n",
       "</style>\n",
       "<table border=\"1\" class=\"dataframe\">\n",
       "  <thead>\n",
       "    <tr style=\"text-align: right;\">\n",
       "      <th></th>\n",
       "      <th>id</th>\n",
       "      <th>imdb_id</th>\n",
       "      <th>popularity</th>\n",
       "      <th>budget</th>\n",
       "      <th>revenue</th>\n",
       "      <th>original_title</th>\n",
       "      <th>cast</th>\n",
       "      <th>homepage</th>\n",
       "      <th>director</th>\n",
       "      <th>tagline</th>\n",
       "      <th>...</th>\n",
       "      <th>overview</th>\n",
       "      <th>runtime</th>\n",
       "      <th>genres</th>\n",
       "      <th>production_companies</th>\n",
       "      <th>release_date</th>\n",
       "      <th>vote_count</th>\n",
       "      <th>vote_average</th>\n",
       "      <th>release_year</th>\n",
       "      <th>budget_adj</th>\n",
       "      <th>revenue_adj</th>\n",
       "    </tr>\n",
       "  </thead>\n",
       "  <tbody>\n",
       "    <tr>\n",
       "      <th>0</th>\n",
       "      <td>135397</td>\n",
       "      <td>tt0369610</td>\n",
       "      <td>32.985763</td>\n",
       "      <td>150000000</td>\n",
       "      <td>1513528810</td>\n",
       "      <td>Jurassic World</td>\n",
       "      <td>Chris Pratt|Bryce Dallas Howard|Irrfan Khan|Vi...</td>\n",
       "      <td>http://www.jurassicworld.com/</td>\n",
       "      <td>Colin Trevorrow</td>\n",
       "      <td>The park is open.</td>\n",
       "      <td>...</td>\n",
       "      <td>Twenty-two years after the events of Jurassic ...</td>\n",
       "      <td>124</td>\n",
       "      <td>Action|Adventure|Science Fiction|Thriller</td>\n",
       "      <td>Universal Studios|Amblin Entertainment|Legenda...</td>\n",
       "      <td>6/9/15</td>\n",
       "      <td>5562</td>\n",
       "      <td>6.5</td>\n",
       "      <td>2015</td>\n",
       "      <td>1.379999e+08</td>\n",
       "      <td>1.392446e+09</td>\n",
       "    </tr>\n",
       "    <tr>\n",
       "      <th>1</th>\n",
       "      <td>76341</td>\n",
       "      <td>tt1392190</td>\n",
       "      <td>28.419936</td>\n",
       "      <td>150000000</td>\n",
       "      <td>378436354</td>\n",
       "      <td>Mad Max: Fury Road</td>\n",
       "      <td>Tom Hardy|Charlize Theron|Hugh Keays-Byrne|Nic...</td>\n",
       "      <td>http://www.madmaxmovie.com/</td>\n",
       "      <td>George Miller</td>\n",
       "      <td>What a Lovely Day.</td>\n",
       "      <td>...</td>\n",
       "      <td>An apocalyptic story set in the furthest reach...</td>\n",
       "      <td>120</td>\n",
       "      <td>Action|Adventure|Science Fiction|Thriller</td>\n",
       "      <td>Village Roadshow Pictures|Kennedy Miller Produ...</td>\n",
       "      <td>5/13/15</td>\n",
       "      <td>6185</td>\n",
       "      <td>7.1</td>\n",
       "      <td>2015</td>\n",
       "      <td>1.379999e+08</td>\n",
       "      <td>3.481613e+08</td>\n",
       "    </tr>\n",
       "    <tr>\n",
       "      <th>2</th>\n",
       "      <td>262500</td>\n",
       "      <td>tt2908446</td>\n",
       "      <td>13.112507</td>\n",
       "      <td>110000000</td>\n",
       "      <td>295238201</td>\n",
       "      <td>Insurgent</td>\n",
       "      <td>Shailene Woodley|Theo James|Kate Winslet|Ansel...</td>\n",
       "      <td>http://www.thedivergentseries.movie/#insurgent</td>\n",
       "      <td>Robert Schwentke</td>\n",
       "      <td>One Choice Can Destroy You</td>\n",
       "      <td>...</td>\n",
       "      <td>Beatrice Prior must confront her inner demons ...</td>\n",
       "      <td>119</td>\n",
       "      <td>Adventure|Science Fiction|Thriller</td>\n",
       "      <td>Summit Entertainment|Mandeville Films|Red Wago...</td>\n",
       "      <td>3/18/15</td>\n",
       "      <td>2480</td>\n",
       "      <td>6.3</td>\n",
       "      <td>2015</td>\n",
       "      <td>1.012000e+08</td>\n",
       "      <td>2.716190e+08</td>\n",
       "    </tr>\n",
       "    <tr>\n",
       "      <th>3</th>\n",
       "      <td>140607</td>\n",
       "      <td>tt2488496</td>\n",
       "      <td>11.173104</td>\n",
       "      <td>200000000</td>\n",
       "      <td>2068178225</td>\n",
       "      <td>Star Wars: The Force Awakens</td>\n",
       "      <td>Harrison Ford|Mark Hamill|Carrie Fisher|Adam D...</td>\n",
       "      <td>http://www.starwars.com/films/star-wars-episod...</td>\n",
       "      <td>J.J. Abrams</td>\n",
       "      <td>Every generation has a story.</td>\n",
       "      <td>...</td>\n",
       "      <td>Thirty years after defeating the Galactic Empi...</td>\n",
       "      <td>136</td>\n",
       "      <td>Action|Adventure|Science Fiction|Fantasy</td>\n",
       "      <td>Lucasfilm|Truenorth Productions|Bad Robot</td>\n",
       "      <td>12/15/15</td>\n",
       "      <td>5292</td>\n",
       "      <td>7.5</td>\n",
       "      <td>2015</td>\n",
       "      <td>1.839999e+08</td>\n",
       "      <td>1.902723e+09</td>\n",
       "    </tr>\n",
       "    <tr>\n",
       "      <th>4</th>\n",
       "      <td>168259</td>\n",
       "      <td>tt2820852</td>\n",
       "      <td>9.335014</td>\n",
       "      <td>190000000</td>\n",
       "      <td>1506249360</td>\n",
       "      <td>Furious 7</td>\n",
       "      <td>Vin Diesel|Paul Walker|Jason Statham|Michelle ...</td>\n",
       "      <td>http://www.furious7.com/</td>\n",
       "      <td>James Wan</td>\n",
       "      <td>Vengeance Hits Home</td>\n",
       "      <td>...</td>\n",
       "      <td>Deckard Shaw seeks revenge against Dominic Tor...</td>\n",
       "      <td>137</td>\n",
       "      <td>Action|Crime|Thriller</td>\n",
       "      <td>Universal Pictures|Original Film|Media Rights ...</td>\n",
       "      <td>4/1/15</td>\n",
       "      <td>2947</td>\n",
       "      <td>7.3</td>\n",
       "      <td>2015</td>\n",
       "      <td>1.747999e+08</td>\n",
       "      <td>1.385749e+09</td>\n",
       "    </tr>\n",
       "  </tbody>\n",
       "</table>\n",
       "<p>5 rows × 21 columns</p>\n",
       "</div>"
      ],
      "text/plain": [
       "       id    imdb_id  popularity     budget     revenue  \\\n",
       "0  135397  tt0369610   32.985763  150000000  1513528810   \n",
       "1   76341  tt1392190   28.419936  150000000   378436354   \n",
       "2  262500  tt2908446   13.112507  110000000   295238201   \n",
       "3  140607  tt2488496   11.173104  200000000  2068178225   \n",
       "4  168259  tt2820852    9.335014  190000000  1506249360   \n",
       "\n",
       "                 original_title  \\\n",
       "0                Jurassic World   \n",
       "1            Mad Max: Fury Road   \n",
       "2                     Insurgent   \n",
       "3  Star Wars: The Force Awakens   \n",
       "4                     Furious 7   \n",
       "\n",
       "                                                cast  \\\n",
       "0  Chris Pratt|Bryce Dallas Howard|Irrfan Khan|Vi...   \n",
       "1  Tom Hardy|Charlize Theron|Hugh Keays-Byrne|Nic...   \n",
       "2  Shailene Woodley|Theo James|Kate Winslet|Ansel...   \n",
       "3  Harrison Ford|Mark Hamill|Carrie Fisher|Adam D...   \n",
       "4  Vin Diesel|Paul Walker|Jason Statham|Michelle ...   \n",
       "\n",
       "                                            homepage          director  \\\n",
       "0                      http://www.jurassicworld.com/   Colin Trevorrow   \n",
       "1                        http://www.madmaxmovie.com/     George Miller   \n",
       "2     http://www.thedivergentseries.movie/#insurgent  Robert Schwentke   \n",
       "3  http://www.starwars.com/films/star-wars-episod...       J.J. Abrams   \n",
       "4                           http://www.furious7.com/         James Wan   \n",
       "\n",
       "                         tagline      ...       \\\n",
       "0              The park is open.      ...        \n",
       "1             What a Lovely Day.      ...        \n",
       "2     One Choice Can Destroy You      ...        \n",
       "3  Every generation has a story.      ...        \n",
       "4            Vengeance Hits Home      ...        \n",
       "\n",
       "                                            overview runtime  \\\n",
       "0  Twenty-two years after the events of Jurassic ...     124   \n",
       "1  An apocalyptic story set in the furthest reach...     120   \n",
       "2  Beatrice Prior must confront her inner demons ...     119   \n",
       "3  Thirty years after defeating the Galactic Empi...     136   \n",
       "4  Deckard Shaw seeks revenge against Dominic Tor...     137   \n",
       "\n",
       "                                      genres  \\\n",
       "0  Action|Adventure|Science Fiction|Thriller   \n",
       "1  Action|Adventure|Science Fiction|Thriller   \n",
       "2         Adventure|Science Fiction|Thriller   \n",
       "3   Action|Adventure|Science Fiction|Fantasy   \n",
       "4                      Action|Crime|Thriller   \n",
       "\n",
       "                                production_companies release_date vote_count  \\\n",
       "0  Universal Studios|Amblin Entertainment|Legenda...       6/9/15       5562   \n",
       "1  Village Roadshow Pictures|Kennedy Miller Produ...      5/13/15       6185   \n",
       "2  Summit Entertainment|Mandeville Films|Red Wago...      3/18/15       2480   \n",
       "3          Lucasfilm|Truenorth Productions|Bad Robot     12/15/15       5292   \n",
       "4  Universal Pictures|Original Film|Media Rights ...       4/1/15       2947   \n",
       "\n",
       "   vote_average  release_year    budget_adj   revenue_adj  \n",
       "0           6.5          2015  1.379999e+08  1.392446e+09  \n",
       "1           7.1          2015  1.379999e+08  3.481613e+08  \n",
       "2           6.3          2015  1.012000e+08  2.716190e+08  \n",
       "3           7.5          2015  1.839999e+08  1.902723e+09  \n",
       "4           7.3          2015  1.747999e+08  1.385749e+09  \n",
       "\n",
       "[5 rows x 21 columns]"
      ]
     },
     "execution_count": 552,
     "metadata": {},
     "output_type": "execute_result"
    }
   ],
   "source": [
    "df.head() # print the first 5 rows and header to view the dataset"
   ]
  },
  {
   "cell_type": "code",
   "execution_count": 553,
   "metadata": {},
   "outputs": [
    {
     "data": {
      "text/plain": [
       "id                         0\n",
       "imdb_id                   10\n",
       "popularity                 0\n",
       "budget                     0\n",
       "revenue                    0\n",
       "original_title             0\n",
       "cast                      76\n",
       "homepage                7930\n",
       "director                  44\n",
       "tagline                 2824\n",
       "keywords                1493\n",
       "overview                   4\n",
       "runtime                    0\n",
       "genres                    23\n",
       "production_companies    1030\n",
       "release_date               0\n",
       "vote_count                 0\n",
       "vote_average               0\n",
       "release_year               0\n",
       "budget_adj                 0\n",
       "revenue_adj                0\n",
       "dtype: int64"
      ]
     },
     "execution_count": 553,
     "metadata": {},
     "output_type": "execute_result"
    }
   ],
   "source": [
    "df.isnull().sum() # view missing value counts for each feature in the dataset"
   ]
  },
  {
   "cell_type": "markdown",
   "metadata": {},
   "source": [
    "### Conclusions of the properties:\n",
    "There are in total 10866 rows and 21 columns in this dataset. I can drop some columns like 'homepage' and 'imdb-id', which do not provide relevant information for my analysis. I save the result as a new file named: 'tmdb-movies_edited.csv'.\n",
    "The columns 'id' and 'release_year' are provided as type integer, I need to convert these in string type, since I do not need them to be numeric in the following part. \n"
   ]
  },
  {
   "cell_type": "code",
   "execution_count": 554,
   "metadata": {},
   "outputs": [],
   "source": [
    "df.drop(['homepage','overview','imdb_id'], axis = 1,inplace=True) # drop the columns with infos I do not need"
   ]
  },
  {
   "cell_type": "code",
   "execution_count": 555,
   "metadata": {},
   "outputs": [],
   "source": [
    "df.to_csv('tmdb-movies_edited.csv',index=False) # save as a new csv file"
   ]
  },
  {
   "cell_type": "code",
   "execution_count": 556,
   "metadata": {},
   "outputs": [],
   "source": [
    "df_e = pd.read_csv('tmdb-movies_edited.csv') # read the new file"
   ]
  },
  {
   "cell_type": "code",
   "execution_count": 557,
   "metadata": {},
   "outputs": [],
   "source": [
    "df_e['id'] = df_e['id'].astype(str) #convert the column id from integer to string type"
   ]
  },
  {
   "cell_type": "code",
   "execution_count": 558,
   "metadata": {},
   "outputs": [],
   "source": [
    "df_e['release_year'] = df_e['release_year'].astype(str) #convert the column release_year from integer to string type"
   ]
  },
  {
   "cell_type": "code",
   "execution_count": 559,
   "metadata": {},
   "outputs": [
    {
     "name": "stdout",
     "output_type": "stream",
     "text": [
      "<class 'pandas.core.frame.DataFrame'>\n",
      "RangeIndex: 10866 entries, 0 to 10865\n",
      "Data columns (total 18 columns):\n",
      "id                      10866 non-null object\n",
      "popularity              10866 non-null float64\n",
      "budget                  10866 non-null int64\n",
      "revenue                 10866 non-null int64\n",
      "original_title          10866 non-null object\n",
      "cast                    10790 non-null object\n",
      "director                10822 non-null object\n",
      "tagline                 8042 non-null object\n",
      "keywords                9373 non-null object\n",
      "runtime                 10866 non-null int64\n",
      "genres                  10843 non-null object\n",
      "production_companies    9836 non-null object\n",
      "release_date            10866 non-null object\n",
      "vote_count              10866 non-null int64\n",
      "vote_average            10866 non-null float64\n",
      "release_year            10866 non-null object\n",
      "budget_adj              10866 non-null float64\n",
      "revenue_adj             10866 non-null float64\n",
      "dtypes: float64(4), int64(4), object(10)\n",
      "memory usage: 1.5+ MB\n"
     ]
    }
   ],
   "source": [
    "df_e.info() #check the types to confirm"
   ]
  },
  {
   "cell_type": "markdown",
   "metadata": {},
   "source": [
    "> **Tip**: You should _not_ perform too many operations in each cell. Create cells freely to explore your data. One option that you can take with this project is to do a lot of explorations in an initial notebook. These don't have to be organized, but make sure you use enough comments to understand the purpose of each code cell. Then, after you're done with your analysis, create a duplicate notebook where you will trim the excess and organize your steps so that you have a flowing, cohesive report.\n",
    "\n",
    "> **Tip**: Make sure that you keep your reader informed on the steps that you are taking in your investigation. Follow every code cell, or every set of related code cells, with a markdown cell to describe to the reader what was found in the preceding cell(s). Try to make it so that the reader can then understand what they will be seeing in the following cell(s).\n",
    "\n",
    "### Data Cleaning\n",
    "#### Drawing Conclusions Using Query and Groupby to do the data cleaning\n",
    "In this part, I would like to look closer to the data values from 2006 to 2015.\n",
    "To find out the answers for the questions I would like to explore below, the columns containing pipe characters like 'genres' and 'production_companies' will need to be reorganized. In the following I proceed with these steps: \n",
    "\n",
    "A. I divide the genres in two groups: cross-genre (movies with more than one genres) and single-genre. I add a new column 'genre_mixtype' for these 2 groups with associated type of genres-mix and save the result as one new file.\n",
    "\n",
    "B. Production companies are divided in two groups: copro (coproduction) and noncopro"
   ]
  },
  {
   "cell_type": "code",
   "execution_count": 560,
   "metadata": {},
   "outputs": [],
   "source": [
    "# include only data values with release period from 2006-2015\n",
    "df_10 = df_e.query('release_year <= \"2015\"' and 'release_year >= \"2006\"')"
   ]
  },
  {
   "cell_type": "code",
   "execution_count": 561,
   "metadata": {
    "scrolled": true
   },
   "outputs": [
    {
     "name": "stdout",
     "output_type": "stream",
     "text": [
      "<class 'pandas.core.frame.DataFrame'>\n",
      "Int64Index: 5481 entries, 0 to 7824\n",
      "Data columns (total 18 columns):\n",
      "id                      5481 non-null object\n",
      "popularity              5481 non-null float64\n",
      "budget                  5481 non-null int64\n",
      "revenue                 5481 non-null int64\n",
      "original_title          5481 non-null object\n",
      "cast                    5424 non-null object\n",
      "director                5442 non-null object\n",
      "tagline                 3735 non-null object\n",
      "keywords                4416 non-null object\n",
      "runtime                 5481 non-null int64\n",
      "genres                  5466 non-null object\n",
      "production_companies    4835 non-null object\n",
      "release_date            5481 non-null object\n",
      "vote_count              5481 non-null int64\n",
      "vote_average            5481 non-null float64\n",
      "release_year            5481 non-null object\n",
      "budget_adj              5481 non-null float64\n",
      "revenue_adj             5481 non-null float64\n",
      "dtypes: float64(4), int64(4), object(10)\n",
      "memory usage: 813.6+ KB\n"
     ]
    }
   ],
   "source": [
    "df_10.info() "
   ]
  },
  {
   "cell_type": "markdown",
   "metadata": {},
   "source": [
    "In the columns 'cast', 'director', 'tagline', 'keywords', 'production_companies' and 'genres' are values missing, I fill these with the word 'empty', since these are all type string."
   ]
  },
  {
   "cell_type": "code",
   "execution_count": 562,
   "metadata": {},
   "outputs": [],
   "source": [
    "df_10 = df_10.fillna('empty')"
   ]
  },
  {
   "cell_type": "code",
   "execution_count": 563,
   "metadata": {},
   "outputs": [
    {
     "name": "stdout",
     "output_type": "stream",
     "text": [
      "<class 'pandas.core.frame.DataFrame'>\n",
      "Int64Index: 5481 entries, 0 to 7824\n",
      "Data columns (total 18 columns):\n",
      "id                      5481 non-null object\n",
      "popularity              5481 non-null float64\n",
      "budget                  5481 non-null int64\n",
      "revenue                 5481 non-null int64\n",
      "original_title          5481 non-null object\n",
      "cast                    5481 non-null object\n",
      "director                5481 non-null object\n",
      "tagline                 5481 non-null object\n",
      "keywords                5481 non-null object\n",
      "runtime                 5481 non-null int64\n",
      "genres                  5481 non-null object\n",
      "production_companies    5481 non-null object\n",
      "release_date            5481 non-null object\n",
      "vote_count              5481 non-null int64\n",
      "vote_average            5481 non-null float64\n",
      "release_year            5481 non-null object\n",
      "budget_adj              5481 non-null float64\n",
      "revenue_adj             5481 non-null float64\n",
      "dtypes: float64(4), int64(4), object(10)\n",
      "memory usage: 813.6+ KB\n"
     ]
    }
   ],
   "source": [
    "df_10.info() # check out that the values again to confirm"
   ]
  },
  {
   "cell_type": "code",
   "execution_count": 564,
   "metadata": {},
   "outputs": [
    {
     "data": {
      "text/plain": [
       "Horror|Thriller                                    166\n",
       "Drama|Romance                                      132\n",
       "Comedy|Drama                                       127\n",
       "Comedy|Romance                                     115\n",
       "Comedy|Drama|Romance                                96\n",
       "Drama|Thriller                                      75\n",
       "Drama|Comedy                                        66\n",
       "Action|Thriller                                     54\n",
       "Animation|Family                                    45\n",
       "Crime|Drama|Thriller                                43\n",
       "Comedy|Horror                                       41\n",
       "Thriller|Horror                                     38\n",
       "Drama|Horror|Thriller                               35\n",
       "Drama|Comedy|Romance                                34\n",
       "Comedy|Family                                       32\n",
       "Romance|Comedy                                      30\n",
       "Thriller|Drama                                      29\n",
       "Documentary|Music                                   28\n",
       "Horror|Mystery|Thriller                             26\n",
       "Drama|Music                                         25\n",
       "Animation|Comedy|Family                             24\n",
       "Action|Drama|Thriller                               23\n",
       "Romance|Drama                                       22\n",
       "Drama|History                                       22\n",
       "Crime|Drama                                         22\n",
       "Action|Crime|Thriller                               20\n",
       "Action|Comedy                                       20\n",
       "Action|Crime|Drama|Thriller                         19\n",
       "Action|Drama                                        18\n",
       "Horror|Science Fiction                              18\n",
       "                                                  ... \n",
       "Action|Adventure|Drama|History                       1\n",
       "Animation|Family|Adventure|Science Fiction           1\n",
       "Drama|Action|Science Fiction|Thriller                1\n",
       "Adventure|Action|Crime|Mystery                       1\n",
       "Adventure|Action|Thriller|Comedy                     1\n",
       "Horror|Action|Crime|Thriller                         1\n",
       "Action|Animation|Fantasy                             1\n",
       "Science Fiction|Drama|Family                         1\n",
       "Fantasy|Comedy|Science Fiction|Romance|Thriller      1\n",
       "Romance|Music|TV Movie|Comedy                        1\n",
       "Drama|Horror|Mystery                                 1\n",
       "Science Fiction|Adventure|Comedy                     1\n",
       "Adventure|Science Fiction|Thriller                   1\n",
       "Science Fiction|Action|Animation                     1\n",
       "Adventure|Comedy|Drama|Fantasy                       1\n",
       "Action|Family|Science Fiction                        1\n",
       "Thriller|Crime|Drama|Action                          1\n",
       "Action|Adventure|Foreign|Thriller                    1\n",
       "Mystery|Romance|Thriller                             1\n",
       "Action|Adventure|Mystery|Thriller                    1\n",
       "Thriller|Romance|Fantasy                             1\n",
       "Action|Crime|Drama|Comedy|Thriller                   1\n",
       "Mystery|Horror|Thriller|Crime                        1\n",
       "Action|Comedy|Adventure                              1\n",
       "Comedy|Family|Fantasy|Romance                        1\n",
       "Action|Fantasy|Science Fiction                       1\n",
       "Action|Science Fiction|Drama                         1\n",
       "Family|Drama|Romance|Comedy                          1\n",
       "Drama|Foreign|Science Fiction                        1\n",
       "Music|Drama|Fantasy|Romance                          1\n",
       "Name: genres, Length: 1221, dtype: int64"
      ]
     },
     "execution_count": 564,
     "metadata": {},
     "output_type": "execute_result"
    }
   ],
   "source": [
    "cross_genre = df_10[df_10['genres'].str.contains('\\\\|',na=False)] # set up group of genres-mix\n",
    "cross_genre['genres'].value_counts() # view the counts of movies for each genre-mix"
   ]
  },
  {
   "cell_type": "code",
   "execution_count": 565,
   "metadata": {},
   "outputs": [
    {
     "data": {
      "text/plain": [
       "Drama              433\n",
       "Comedy             386\n",
       "Documentary        261\n",
       "Horror             146\n",
       "Thriller            74\n",
       "Action              38\n",
       "Animation           18\n",
       "Music               15\n",
       "Science Fiction     15\n",
       "Adventure           11\n",
       "Family              10\n",
       "Romance              8\n",
       "Fantasy              4\n",
       "TV Movie             3\n",
       "Crime                3\n",
       "War                  2\n",
       "Western              1\n",
       "Name: genres, dtype: int64"
      ]
     },
     "execution_count": 565,
     "metadata": {},
     "output_type": "execute_result"
    }
   ],
   "source": [
    "single_genre = df_10[df_10['genres'].str.contains('\\\\|',na=False)== False] # set up group of non genres-mix\n",
    "single_genre = single_genre[single_genre['genres'] != 'empty'] # remove the data values with 'empty' genre\n",
    "single_genre['genres'].value_counts()"
   ]
  },
  {
   "cell_type": "code",
   "execution_count": 566,
   "metadata": {},
   "outputs": [
    {
     "name": "stderr",
     "output_type": "stream",
     "text": [
      "/opt/conda/lib/python3.6/site-packages/ipykernel_launcher.py:4: SettingWithCopyWarning: \n",
      "A value is trying to be set on a copy of a slice from a DataFrame.\n",
      "Try using .loc[row_indexer,col_indexer] = value instead\n",
      "\n",
      "See the caveats in the documentation: http://pandas.pydata.org/pandas-docs/stable/indexing.html#indexing-view-versus-copy\n",
      "  after removing the cwd from sys.path.\n"
     ]
    }
   ],
   "source": [
    "# use numpy repeat function to create array for the cross and single genre type\n",
    "mix = np.repeat('cross-genre',cross_genre.shape[0])\n",
    "nonmix = np.repeat('single-genre', single_genre.shape[0])\n",
    "cross_genre['genres_mixtype'] = mix # set the new column value with the created array\n",
    "single_genre['genres_mixtype'] = nonmix"
   ]
  },
  {
   "cell_type": "code",
   "execution_count": 567,
   "metadata": {},
   "outputs": [],
   "source": [
    "genres_mixtype = cross_genre.append(single_genre)"
   ]
  },
  {
   "cell_type": "code",
   "execution_count": 568,
   "metadata": {},
   "outputs": [],
   "source": [
    "genres_mixtype.to_csv('genresmix_edited.csv',index = False)"
   ]
  },
  {
   "cell_type": "code",
   "execution_count": 569,
   "metadata": {},
   "outputs": [],
   "source": [
    "df = pd.read_csv('genresmix_edited.csv')"
   ]
  },
  {
   "cell_type": "code",
   "execution_count": 570,
   "metadata": {},
   "outputs": [
    {
     "data": {
      "text/plain": [
       "Walt Disney Pictures|Pixar Animation Studios                                                                                                      11\n",
       "Walt Disney Pictures|Walt Disney Animation Studios                                                                                                11\n",
       "DC Comics|Warner Bros. Animation                                                                                                                   9\n",
       "Universal Pictures|Illumination Entertainment                                                                                                      8\n",
       "Nu Image Films|Millennium Films                                                                                                                    7\n",
       "Blue Sky Studios|Twentieth Century Fox Animation                                                                                                   6\n",
       "DisneyToon Studios|Walt Disney Animation Studios|Prana Animation Studios                                                                           5\n",
       "DC Comics|Warner Premiere                                                                                                                          4\n",
       "DC Comics|Warner Bros. Animation|Warner Premiere|DC Entertainment                                                                                  4\n",
       "Lionsgate|Color Force                                                                                                                              3\n",
       "DC Comics|Warner Bros. Animation|Warner Premiere                                                                                                   3\n",
       "Columbia Pictures|Happy Madison Productions|Relativity Media                                                                                       3\n",
       "The Hallmark Channel|Whizbang Films Inc.                                                                                                           3\n",
       "Columbia Pictures|Apatow Productions                                                                                                               3\n",
       "Columbia Pictures|Happy Madison Productions                                                                                                        3\n",
       "Columbia Pictures|Sony Pictures Animation                                                                                                          3\n",
       "Rainmaker Entertainment|Mattel                                                                                                                     3\n",
       "20th Century Fox|Regency Enterprises                                                                                                               3\n",
       "Lions Gate Films|Tyler Perry Company, The                                                                                                          2\n",
       "Warner Bros.|Heyday Films                                                                                                                          2\n",
       "Columbia Pictures|Happy Madison Productions|Broken Road Productions                                                                                2\n",
       "Universal Pictures|Apatow Productions                                                                                                              2\n",
       "Walt Disney Pictures|DisneyToon Studios                                                                                                            2\n",
       "Isle of Man Film|CinemaNX                                                                                                                          2\n",
       "Columbia Pictures|Revolution Studios                                                                                                               2\n",
       "CC Capital Arts Entertainment SRL|Universal 1440 Entertainment                                                                                     2\n",
       "Myriad Pictures|Unison Films|Kim and Jim Productions|Division Films|Dreambridge Films                                                              2\n",
       "The Asylum|The Global Asylum                                                                                                                       2\n",
       "DreamWorks SKG|Touchstone Pictures                                                                                                                 2\n",
       "Koan Films|Go Films                                                                                                                                2\n",
       "                                                                                                                                                  ..\n",
       "Depth of Field|Artina Films|Fade to Black Productions                                                                                              1\n",
       "Universal Pictures|Spyglass Entertainment|Bazelevs Production|Kickstart Productions|Marc Platt Productions                                         1\n",
       "Vision Films|Frenzy Films                                                                                                                          1\n",
       "Avery Pix|Landscape Entertainment                                                                                                                  1\n",
       "Killer Films|Treehouse Pictures                                                                                                                    1\n",
       "Social Capital|Film Afrika Worldwide|Lipsync Productions|Procinvest Sas|Cinedigm                                                                   1\n",
       "New Line Cinema|Solaris Film|Avery Pix|O'Connor Brothers|Kumar Mobiliengesellschaft mbH & Co. Projekt Nr. 1 KG                                     1\n",
       "Lifetime Television|Sony Pictures Television                                                                                                       1\n",
       "BBC Films|Bill Kenwright Films                                                                                                                     1\n",
       "Atlas Entertainment|Relativity Media                                                                                                               1\n",
       "The Directors Bureau|Hi! Production                                                                                                                1\n",
       "Film4|Thin Man Films                                                                                                                               1\n",
       "RabbitBandini Productions|Werc Werk Works                                                                                                          1\n",
       "Mars Distribution|Left Bank Pictures|Canal+|Backup Films|France2 CinÃ©ma                                                                           1\n",
       "Alexander Groupe|High Window Films|Illium Pictures                                                                                                 1\n",
       "Freestyle Releasing|ShadowMachine Films                                                                                                            1\n",
       "Sony Pictures Animation|NEST Family Entertainment|Crest Animation Production                                                                       1\n",
       "Ealing Studios|Fragile Films|Quickfire Films|Prescience|Aegis Film Fund                                                                            1\n",
       "Nu Image Films|Peace Arch Entertainment Group|Insight Film Studios|Steamroller Productions|Canadian Film or Video Production Tax Credit (CPTC)     1\n",
       "Tapped Pictures|Meems|Oriah Entertainment|Hackybox Pictures                                                                                        1\n",
       "September Dawn|Voice Pictures|Black Diamond Pictures                                                                                               1\n",
       "Scott Rudin Productions|Revolution Studios                                                                                                         1\n",
       "Northern Lights Films|Jeff Rice Films|Two Flints                                                                                                   1\n",
       "Paramount Pictures|The Kennedy/Marshall Company                                                                                                    1\n",
       "QED International|Revolver Picture Company|Covert Media                                                                                            1\n",
       "LEGO|Threshold Animation Studios|Tinseltown Toons                                                                                                  1\n",
       "The Weinstein Company|Paramount Vantage                                                                                                            1\n",
       "2929 Productions|Costa Films|Parkes+MacDonald Image Nation                                                                                         1\n",
       "Wonderland Sound and Vision|CBS Films|Vast Entertainment                                                                                           1\n",
       "Brightlight Pictures|Gold Circle Films                                                                                                             1\n",
       "Name: production_companies, Length: 3193, dtype: int64"
      ]
     },
     "execution_count": 570,
     "metadata": {},
     "output_type": "execute_result"
    }
   ],
   "source": [
    "copro = df_10[df_10['production_companies'].str.contains('\\\\|',na=False)] # set up group of co-productions\n",
    "copro['production_companies'].value_counts() "
   ]
  },
  {
   "cell_type": "code",
   "execution_count": 571,
   "metadata": {},
   "outputs": [],
   "source": [
    "noncopro = df_10[df_10['production_companies'].str.contains('\\\\|',na=False) == False] # set up group of co-productions\n",
    "noncopro = noncopro[noncopro['production_companies'] != 'empty'] # remove the data values with 'empty' production companies"
   ]
  },
  {
   "cell_type": "code",
   "execution_count": 572,
   "metadata": {},
   "outputs": [
    {
     "name": "stderr",
     "output_type": "stream",
     "text": [
      "/opt/conda/lib/python3.6/site-packages/ipykernel_launcher.py:4: SettingWithCopyWarning: \n",
      "A value is trying to be set on a copy of a slice from a DataFrame.\n",
      "Try using .loc[row_indexer,col_indexer] = value instead\n",
      "\n",
      "See the caveats in the documentation: http://pandas.pydata.org/pandas-docs/stable/indexing.html#indexing-view-versus-copy\n",
      "  after removing the cwd from sys.path.\n"
     ]
    }
   ],
   "source": [
    "# use numpy repeat function to create array for the production types\n",
    "coop = np.repeat('coproduction',copro.shape[0])\n",
    "noncoop = np.repeat('single-production', noncopro.shape[0])\n",
    "copro['production_type'] = coop # set the new column value with the created array\n",
    "noncopro['production_type'] = noncoop"
   ]
  },
  {
   "cell_type": "code",
   "execution_count": 573,
   "metadata": {},
   "outputs": [],
   "source": [
    "production_types = copro.append(noncopro)"
   ]
  },
  {
   "cell_type": "code",
   "execution_count": 574,
   "metadata": {},
   "outputs": [],
   "source": [
    "production_types.to_csv('production_types_edited.csv',index = False)"
   ]
  },
  {
   "cell_type": "code",
   "execution_count": 575,
   "metadata": {},
   "outputs": [],
   "source": [
    "df_p = pd.read_csv('production_types_edited.csv')"
   ]
  },
  {
   "cell_type": "markdown",
   "metadata": {},
   "source": [
    "<a id='eda'></a>\n",
    "# Exploratory Data Analysis\n",
    "\n",
    "> **Tip**: Now that you've trimmed and cleaned your data, you're ready to move on to exploration. Compute statistics and create visualizations with the goal of addressing the research questions that you posed in the Introduction section. It is recommended that you be systematic with your approach. Look at one variable at a time, and then follow it up by looking at relationships between variables.\n",
    "\n",
    "## Research Question 1: Genre vs. Vote Average\n",
    "\n",
    "a. Is a certain type of genres associated with higher rating? Which genre of each subgroup (single-genre and cross-genre) associated with the highest rating?\n",
    "\n",
    "b. Which year do the movies get the highest rating on average? Do the numbers differ by movies with cross-genre and single genre?\n"
   ]
  },
  {
   "cell_type": "markdown",
   "metadata": {},
   "source": [
    " ### To Q1a: Is a certain type of genres associated with a higher rating? Which genre of each subgroup single-genre and cross-genre associated with the highest rating?\n",
    "\n",
    "First of all, I divide the movies into high-level and low-level. To set the level I use the median of average vote. As the visualization, I use a bar chart to print the number of movies for Top 10 high-level genres. In the second part, I focus on the ratings of the subgroup single and cross-genre movies and print the Top 10 best rated genre for each subgroup. "
   ]
  },
  {
   "cell_type": "code",
   "execution_count": 576,
   "metadata": {},
   "outputs": [],
   "source": [
    "median_voteaverage = df.median().vote_average # get the median amount of vote average - we use the genre_mixtype file "
   ]
  },
  {
   "cell_type": "code",
   "execution_count": 577,
   "metadata": {},
   "outputs": [
    {
     "data": {
      "text/plain": [
       "6.0"
      ]
     },
     "execution_count": 577,
     "metadata": {},
     "output_type": "execute_result"
    }
   ],
   "source": [
    "median_voteaverage"
   ]
  },
  {
   "cell_type": "code",
   "execution_count": 578,
   "metadata": {
    "scrolled": true
   },
   "outputs": [
    {
     "data": {
      "text/plain": [
       "True"
      ]
     },
     "execution_count": 578,
     "metadata": {},
     "output_type": "execute_result"
    }
   ],
   "source": [
    "# select samples with average vote less than the median as low level\n",
    "low_level = df[df['vote_average']< 6.0]\n",
    "\n",
    "# select samples with  average vote greater than or equal to the median as high level\n",
    "high_level = df[df['vote_average'] >= 6.0]\n",
    "\n",
    "# ensure these queries included each sample exactly once\n",
    "num_samples = df.shape[0]\n",
    "num_samples == low_level['budget'].count() + high_level['budget'].count() # should be True"
   ]
  },
  {
   "cell_type": "code",
   "execution_count": 579,
   "metadata": {},
   "outputs": [
    {
     "data": {
      "text/plain": [
       "Drama                                           283\n",
       "Documentary                                     232\n",
       "Comedy                                          156\n",
       "Drama|Romance                                    88\n",
       "Comedy|Drama                                     69\n",
       "Comedy|Drama|Romance                             53\n",
       "Comedy|Romance                                   50\n",
       "Drama|Thriller                                   35\n",
       "Animation|Family                                 33\n",
       "Drama|Comedy                                     33\n",
       "Documentary|Music                                27\n",
       "Crime|Drama|Thriller                             25\n",
       "Horror|Thriller                                  23\n",
       "Drama|Comedy|Romance                             21\n",
       "Drama|History                                    20\n",
       "Drama|Music                                      18\n",
       "Animation|Comedy|Family                          17\n",
       "Action|Thriller                                  17\n",
       "Crime|Drama                                      16\n",
       "Thriller                                         16\n",
       "Romance|Drama                                    16\n",
       "Horror                                           14\n",
       "Music|Documentary                                14\n",
       "Romance|Comedy                                   14\n",
       "Animation                                        14\n",
       "Action|Comedy                                    13\n",
       "Music                                            13\n",
       "Drama|History|War                                12\n",
       "Animation|Comedy                                 11\n",
       "Drama|Thriller|Crime                             10\n",
       "                                               ... \n",
       "Drama|Horror|Music                                1\n",
       "History|Documentary|Animation                     1\n",
       "Drama|Thriller|History|War                        1\n",
       "Fantasy|Action|Adventure|Animation|Comedy         1\n",
       "Drama|Adventure|Western                           1\n",
       "Action|Science Fiction|Adventure|Fantasy          1\n",
       "Documentary|Animation                             1\n",
       "Drama|Comedy|Romance|Family                       1\n",
       "Drama|Foreign|Mystery                             1\n",
       "Thriller|Crime|Action                             1\n",
       "Action|Drama|Horror|Science Fiction|Thriller      1\n",
       "Adventure|Science Fiction|Action                  1\n",
       "Romance|Comedy|Drama|Horror                       1\n",
       "Animation|Family|Adventure|Comedy                 1\n",
       "Music|Animation|Family|Fantasy                    1\n",
       "Adventure|Fantasy|Family|Mystery                  1\n",
       "Action|Comedy|Documentary                         1\n",
       "Crime|Action|Drama                                1\n",
       "Adventure|Horror|Thriller                         1\n",
       "Action|Thriller|Western                           1\n",
       "Action|Adventure|Drama|Mystery|Romance            1\n",
       "Comedy|Drama|Adventure                            1\n",
       "Fantasy|Drama|Thriller|Mystery|Romance            1\n",
       "Animation|Family|Fantasy|Adventure                1\n",
       "Comedy|Action|Science Fiction                     1\n",
       "Drama|Family|Foreign                              1\n",
       "Drama|Comedy|Science Fiction|Romance              1\n",
       "Horror|Comedy|Romance                             1\n",
       "Adventure|Drama|Action|Comedy|Thriller            1\n",
       "Music|Drama|Fantasy|Romance                       1\n",
       "Name: genres, Length: 788, dtype: int64"
      ]
     },
     "execution_count": 579,
     "metadata": {},
     "output_type": "execute_result"
    }
   ],
   "source": [
    "high_level['genres'].value_counts()"
   ]
  },
  {
   "cell_type": "code",
   "execution_count": 580,
   "metadata": {},
   "outputs": [],
   "source": [
    "hl_genre = high_level['genres'].value_counts().head(10) # Top 10 of genres with high-level ratings"
   ]
  },
  {
   "cell_type": "code",
   "execution_count": 581,
   "metadata": {},
   "outputs": [
    {
     "data": {
      "text/plain": [
       "Text(0.5,1,'Genres of High-Level Movies')"
      ]
     },
     "execution_count": 581,
     "metadata": {},
     "output_type": "execute_result"
    },
    {
     "data": {
      "image/png": "[encoded data removed]",
      "text/plain": [
       "<matplotlib.figure.Figure at 0x7f0aac225160>"
      ]
     },
     "metadata": {
      "needs_background": "light"
     },
     "output_type": "display_data"
    }
   ],
   "source": [
    "hl_genre.plot.bar()\n",
    "plt.xlabel('Genres')\n",
    "plt.ylabel('Number of Movies with high-level ratings')\n",
    "plt.title('Genres of High-Level Movies')"
   ]
  },
  {
   "cell_type": "code",
   "execution_count": 582,
   "metadata": {},
   "outputs": [
    {
     "data": {
      "text/plain": [
       "genres\n",
       "Science Fiction|Adventure|Family                 8.0\n",
       "Drama|Science Fiction|Comedy                     8.0\n",
       "History|Drama|Thriller|War                       8.0\n",
       "Adventure|Drama|Science Fiction                  8.0\n",
       "Drama|Music|Comedy                               8.1\n",
       "Drama|Action|Crime|Thriller                      8.1\n",
       "Crime|Action                                     8.1\n",
       "Thriller|Documentary                             8.2\n",
       "Music|Drama|Fantasy|Romance                      8.4\n",
       "Drama|Horror|Mystery|Science Fiction|Thriller    8.8\n",
       "Name: vote_average, dtype: float64"
      ]
     },
     "execution_count": 582,
     "metadata": {},
     "output_type": "execute_result"
    }
   ],
   "source": [
    "# Output the Top 10 genre with best ratings within the cross-genre subgroup\n",
    "high_level[high_level['genres_mixtype']=='cross-genre'].groupby('genres').mean().sort_values(by='vote_average').tail(10).vote_average"
   ]
  },
  {
   "cell_type": "code",
   "execution_count": 583,
   "metadata": {
    "scrolled": true
   },
   "outputs": [
    {
     "data": {
      "text/plain": [
       "genres\n",
       "Comedy             6.635897\n",
       "Romance            6.700000\n",
       "Drama              6.737456\n",
       "Western            6.800000\n",
       "Science Fiction    6.850000\n",
       "TV Movie           6.900000\n",
       "War                6.900000\n",
       "Animation          6.978571\n",
       "Documentary        7.068103\n",
       "Music              7.446154\n",
       "Name: vote_average, dtype: float64"
      ]
     },
     "execution_count": 583,
     "metadata": {},
     "output_type": "execute_result"
    }
   ],
   "source": [
    "# Output the Top 10 genre with best ratings within the single-genre subgroup\n",
    "high_level[high_level['genres_mixtype']=='single-genre'].groupby('genres').mean().sort_values(by='vote_average').tail(10).vote_average"
   ]
  },
  {
   "cell_type": "markdown",
   "metadata": {},
   "source": [
    " ### To Q1b: Which year do the movies get the highest rating on average? Do the numbers differ by movies with cross-genre and single genre?\n",
    "\n",
    "I use the group by function to create vote average numbers for each year. \n",
    "After that, I look closer to single-genre and cross-genre separately, if the numbers differ by release year. \n",
    "For the visualization, I create a line chart to compare both groups of movies for each year. "
   ]
  },
  {
   "cell_type": "code",
   "execution_count": 584,
   "metadata": {},
   "outputs": [
    {
     "data": {
      "text/html": [
       "<div>\n",
       "<style>\n",
       "    .dataframe thead tr:only-child th {\n",
       "        text-align: right;\n",
       "    }\n",
       "\n",
       "    .dataframe thead th {\n",
       "        text-align: left;\n",
       "    }\n",
       "\n",
       "    .dataframe tbody tr th {\n",
       "        vertical-align: top;\n",
       "    }\n",
       "</style>\n",
       "<table border=\"1\" class=\"dataframe\">\n",
       "  <thead>\n",
       "    <tr style=\"text-align: right;\">\n",
       "      <th></th>\n",
       "      <th>id</th>\n",
       "      <th>popularity</th>\n",
       "      <th>budget</th>\n",
       "      <th>revenue</th>\n",
       "      <th>runtime</th>\n",
       "      <th>vote_count</th>\n",
       "      <th>vote_average</th>\n",
       "      <th>budget_adj</th>\n",
       "      <th>revenue_adj</th>\n",
       "    </tr>\n",
       "    <tr>\n",
       "      <th>release_year</th>\n",
       "      <th></th>\n",
       "      <th></th>\n",
       "      <th></th>\n",
       "      <th></th>\n",
       "      <th></th>\n",
       "      <th></th>\n",
       "      <th></th>\n",
       "      <th></th>\n",
       "      <th></th>\n",
       "    </tr>\n",
       "  </thead>\n",
       "  <tbody>\n",
       "    <tr>\n",
       "      <th>2006</th>\n",
       "      <td>15004.700935</td>\n",
       "      <td>0.722453</td>\n",
       "      <td>1.992916e+07</td>\n",
       "      <td>5.329770e+07</td>\n",
       "      <td>104.911215</td>\n",
       "      <td>274.542056</td>\n",
       "      <td>6.602804</td>\n",
       "      <td>2.155676e+07</td>\n",
       "      <td>5.765048e+07</td>\n",
       "    </tr>\n",
       "    <tr>\n",
       "      <th>2007</th>\n",
       "      <td>17190.965665</td>\n",
       "      <td>0.701481</td>\n",
       "      <td>1.917690e+07</td>\n",
       "      <td>5.724916e+07</td>\n",
       "      <td>102.995708</td>\n",
       "      <td>292.004292</td>\n",
       "      <td>6.633047</td>\n",
       "      <td>2.016774e+07</td>\n",
       "      <td>6.020715e+07</td>\n",
       "    </tr>\n",
       "    <tr>\n",
       "      <th>2008</th>\n",
       "      <td>17785.568182</td>\n",
       "      <td>0.677254</td>\n",
       "      <td>1.793925e+07</td>\n",
       "      <td>5.021493e+07</td>\n",
       "      <td>103.871212</td>\n",
       "      <td>294.753788</td>\n",
       "      <td>6.619318</td>\n",
       "      <td>1.816863e+07</td>\n",
       "      <td>5.085701e+07</td>\n",
       "    </tr>\n",
       "    <tr>\n",
       "      <th>2009</th>\n",
       "      <td>34874.031621</td>\n",
       "      <td>0.742358</td>\n",
       "      <td>1.914009e+07</td>\n",
       "      <td>6.067626e+07</td>\n",
       "      <td>100.620553</td>\n",
       "      <td>343.719368</td>\n",
       "      <td>6.615810</td>\n",
       "      <td>1.945399e+07</td>\n",
       "      <td>6.167138e+07</td>\n",
       "    </tr>\n",
       "    <tr>\n",
       "      <th>2010</th>\n",
       "      <td>48031.656489</td>\n",
       "      <td>0.770821</td>\n",
       "      <td>2.269900e+07</td>\n",
       "      <td>5.802111e+07</td>\n",
       "      <td>100.362595</td>\n",
       "      <td>384.545802</td>\n",
       "      <td>6.700382</td>\n",
       "      <td>2.269900e+07</td>\n",
       "      <td>5.802111e+07</td>\n",
       "    </tr>\n",
       "    <tr>\n",
       "      <th>2011</th>\n",
       "      <td>68896.174377</td>\n",
       "      <td>0.772084</td>\n",
       "      <td>1.794386e+07</td>\n",
       "      <td>5.857354e+07</td>\n",
       "      <td>101.291815</td>\n",
       "      <td>363.313167</td>\n",
       "      <td>6.708897</td>\n",
       "      <td>1.739475e+07</td>\n",
       "      <td>5.678108e+07</td>\n",
       "    </tr>\n",
       "    <tr>\n",
       "      <th>2012</th>\n",
       "      <td>101194.522901</td>\n",
       "      <td>0.806563</td>\n",
       "      <td>1.979326e+07</td>\n",
       "      <td>7.593310e+07</td>\n",
       "      <td>100.587786</td>\n",
       "      <td>556.755725</td>\n",
       "      <td>6.648473</td>\n",
       "      <td>1.879853e+07</td>\n",
       "      <td>7.211703e+07</td>\n",
       "    </tr>\n",
       "    <tr>\n",
       "      <th>2013</th>\n",
       "      <td>166705.632911</td>\n",
       "      <td>0.821182</td>\n",
       "      <td>1.989728e+07</td>\n",
       "      <td>6.294066e+07</td>\n",
       "      <td>99.468354</td>\n",
       "      <td>516.202532</td>\n",
       "      <td>6.728165</td>\n",
       "      <td>1.862452e+07</td>\n",
       "      <td>5.891455e+07</td>\n",
       "    </tr>\n",
       "    <tr>\n",
       "      <th>2014</th>\n",
       "      <td>237385.221591</td>\n",
       "      <td>1.231804</td>\n",
       "      <td>1.556980e+07</td>\n",
       "      <td>5.589914e+07</td>\n",
       "      <td>100.446023</td>\n",
       "      <td>464.863636</td>\n",
       "      <td>6.765341</td>\n",
       "      <td>1.434120e+07</td>\n",
       "      <td>5.148820e+07</td>\n",
       "    </tr>\n",
       "    <tr>\n",
       "      <th>2015</th>\n",
       "      <td>292836.391304</td>\n",
       "      <td>1.449045</td>\n",
       "      <td>1.758177e+07</td>\n",
       "      <td>7.452721e+07</td>\n",
       "      <td>100.361204</td>\n",
       "      <td>469.354515</td>\n",
       "      <td>6.803679</td>\n",
       "      <td>1.617522e+07</td>\n",
       "      <td>6.856500e+07</td>\n",
       "    </tr>\n",
       "  </tbody>\n",
       "</table>\n",
       "</div>"
      ],
      "text/plain": [
       "                         id  popularity        budget       revenue  \\\n",
       "release_year                                                          \n",
       "2006           15004.700935    0.722453  1.992916e+07  5.329770e+07   \n",
       "2007           17190.965665    0.701481  1.917690e+07  5.724916e+07   \n",
       "2008           17785.568182    0.677254  1.793925e+07  5.021493e+07   \n",
       "2009           34874.031621    0.742358  1.914009e+07  6.067626e+07   \n",
       "2010           48031.656489    0.770821  2.269900e+07  5.802111e+07   \n",
       "2011           68896.174377    0.772084  1.794386e+07  5.857354e+07   \n",
       "2012          101194.522901    0.806563  1.979326e+07  7.593310e+07   \n",
       "2013          166705.632911    0.821182  1.989728e+07  6.294066e+07   \n",
       "2014          237385.221591    1.231804  1.556980e+07  5.589914e+07   \n",
       "2015          292836.391304    1.449045  1.758177e+07  7.452721e+07   \n",
       "\n",
       "                 runtime  vote_count  vote_average    budget_adj   revenue_adj  \n",
       "release_year                                                                    \n",
       "2006          104.911215  274.542056      6.602804  2.155676e+07  5.765048e+07  \n",
       "2007          102.995708  292.004292      6.633047  2.016774e+07  6.020715e+07  \n",
       "2008          103.871212  294.753788      6.619318  1.816863e+07  5.085701e+07  \n",
       "2009          100.620553  343.719368      6.615810  1.945399e+07  6.167138e+07  \n",
       "2010          100.362595  384.545802      6.700382  2.269900e+07  5.802111e+07  \n",
       "2011          101.291815  363.313167      6.708897  1.739475e+07  5.678108e+07  \n",
       "2012          100.587786  556.755725      6.648473  1.879853e+07  7.211703e+07  \n",
       "2013           99.468354  516.202532      6.728165  1.862452e+07  5.891455e+07  \n",
       "2014          100.446023  464.863636      6.765341  1.434120e+07  5.148820e+07  \n",
       "2015          100.361204  469.354515      6.803679  1.617522e+07  6.856500e+07  "
      ]
     },
     "execution_count": 584,
     "metadata": {},
     "output_type": "execute_result"
    }
   ],
   "source": [
    "high_level.groupby('release_year').mean() # groupby to get the average vote number for each year"
   ]
  },
  {
   "cell_type": "code",
   "execution_count": 585,
   "metadata": {},
   "outputs": [],
   "source": [
    "cross_genre_year = high_level[high_level['genres_mixtype']=='cross-genre'].groupby('release_year').mean().vote_average"
   ]
  },
  {
   "cell_type": "code",
   "execution_count": 586,
   "metadata": {},
   "outputs": [],
   "source": [
    "single_genre_year = high_level[high_level['genres_mixtype']=='single-genre'].groupby('release_year').mean().vote_average"
   ]
  },
  {
   "cell_type": "code",
   "execution_count": 587,
   "metadata": {},
   "outputs": [
    {
     "data": {
      "text/plain": [
       "<matplotlib.legend.Legend at 0x7f0aaebbc160>"
      ]
     },
     "execution_count": 587,
     "metadata": {},
     "output_type": "execute_result"
    },
    {
     "data": {
      "image/png": "[encoded data removed]",
      "text/plain": [
       "<matplotlib.figure.Figure at 0x7f0aaeb86b70>"
      ]
     },
     "metadata": {
      "needs_background": "light"
     },
     "output_type": "display_data"
    }
   ],
   "source": [
    "plt.plot(cross_genre_year,'k',single_genre_year,'b')\n",
    "plt.xlabel('Year')\n",
    "plt.ylabel('Average vote rating')\n",
    "plt.title('Average ratings of cross-genre and single-genre movies by year')\n",
    "plt.legend({'cross-genre','single-genre'})"
   ]
  },
  {
   "cell_type": "markdown",
   "metadata": {},
   "source": [
    "## Research Question 2  Production Type vs. Vote Average\n",
    "\n",
    "a. What ratings do the movies of production companies get on average? What does the distribution look like? \n",
    "\n",
    "b. Which production type (coproduction or non-copro) associated with higher ratings?"
   ]
  },
  {
   "cell_type": "markdown",
   "metadata": {
    "collapsed": true
   },
   "source": [
    "### To Q2a: What ratings do the movies of each production companies and coproductions get on average? What does the distribution look like? \n",
    "To visualize the distribution of the ratings regarding production companies I use the histogram. \n",
    "\n",
    "\n",
    "\n",
    " "
   ]
  },
  {
   "cell_type": "code",
   "execution_count": 588,
   "metadata": {
    "scrolled": true
   },
   "outputs": [
    {
     "data": {
      "text/plain": [
       "Text(0.5,1,'Distribution of production companies ratings')"
      ]
     },
     "execution_count": 588,
     "metadata": {},
     "output_type": "execute_result"
    },
    {
     "data": {
      "image/png": "[encoded data removed]",
      "text/plain": [
       "<matplotlib.figure.Figure at 0x7f0aaebdfb38>"
      ]
     },
     "metadata": {
      "needs_background": "light"
     },
     "output_type": "display_data"
    }
   ],
   "source": [
    "df_p['vote_average'].hist() # plot the \n",
    "plt.xlabel('ratings')\n",
    "plt.ylabel('number of production companies')\n",
    "plt.title('Distribution of production companies ratings')"
   ]
  },
  {
   "cell_type": "markdown",
   "metadata": {},
   "source": [
    "### To Q2b: Which production type (coproduction or non-copro) associated with higher ratings?\n",
    "\n",
    "Same as in Question 1, I divide the production companies into high-level and low-level. To set the level I use the median of average vote.  "
   ]
  },
  {
   "cell_type": "code",
   "execution_count": 589,
   "metadata": {},
   "outputs": [],
   "source": [
    "median_pc_ratings = df_p.median().vote_average # get the median amount of vote average for the production companies - we use the genre_mixtype file "
   ]
  },
  {
   "cell_type": "code",
   "execution_count": 590,
   "metadata": {},
   "outputs": [
    {
     "data": {
      "text/plain": [
       "5.9000000000000004"
      ]
     },
     "execution_count": 590,
     "metadata": {},
     "output_type": "execute_result"
    }
   ],
   "source": [
    "median_pc_ratings"
   ]
  },
  {
   "cell_type": "code",
   "execution_count": 591,
   "metadata": {
    "scrolled": true
   },
   "outputs": [
    {
     "data": {
      "text/plain": [
       "True"
      ]
     },
     "execution_count": 591,
     "metadata": {},
     "output_type": "execute_result"
    }
   ],
   "source": [
    "# select samples with average vote less than the median as low level\n",
    "pc_low_level = df_p[df_p['vote_average']< 5.9]\n",
    "\n",
    "# select samples with  average vote greater than or equal to the median as high level\n",
    "pc_high_level = df_p[df_p['vote_average'] >= 5.9]\n",
    "\n",
    "# ensure these queries included each sample exactly once\n",
    "pc_num_samples = df_p.shape[0]\n",
    "pc_num_samples == pc_low_level['budget'].count() + pc_high_level['budget'].count() # should be True"
   ]
  },
  {
   "cell_type": "code",
   "execution_count": 592,
   "metadata": {},
   "outputs": [
    {
     "data": {
      "text/plain": [
       "production_type\n",
       "coproduction         5.911795\n",
       "single-production    5.842303\n",
       "Name: vote_average, dtype: float64"
      ]
     },
     "execution_count": 592,
     "metadata": {},
     "output_type": "execute_result"
    }
   ],
   "source": [
    "df_p.groupby('production_type').mean().vote_average"
   ]
  },
  {
   "cell_type": "code",
   "execution_count": 593,
   "metadata": {},
   "outputs": [
    {
     "data": {
      "text/plain": [
       "production_companies\n",
       "Blumhouse Productions|Hit the Ground Running Films    8.4\n",
       "Red Bull Media House|Brain Farm Digital Cinema        8.5\n",
       "SMV Enterprises|Columbia Music Video|EMI              8.7\n",
       "Name: vote_average, dtype: float64"
      ]
     },
     "execution_count": 593,
     "metadata": {},
     "output_type": "execute_result"
    }
   ],
   "source": [
    "# Output of the Top 3 coproduction combination with best ratings within the coproduction subgroup\n",
    "pc_high_level[pc_high_level['production_type']=='coproduction'].groupby('production_companies').mean().sort_values(by='vote_average').tail(3).vote_average"
   ]
  },
  {
   "cell_type": "code",
   "execution_count": 594,
   "metadata": {
    "scrolled": true
   },
   "outputs": [
    {
     "data": {
      "text/plain": [
       "Series([], Name: vote_average, dtype: float64)"
      ]
     },
     "execution_count": 594,
     "metadata": {},
     "output_type": "execute_result"
    }
   ],
   "source": [
    "# Output of the Top 3 production company with best ratings within the single production subgroup\n",
    "pc_high_level[pc_high_level['production_type']=='single'].groupby('production_companies').mean().sort_values(by='vote_average').tail(3).vote_average"
   ]
  },
  {
   "cell_type": "markdown",
   "metadata": {},
   "source": [
    "<a id='conclusions'></a>\n",
    "## Conclusions \n",
    "\n",
    "### Q1a:\n",
    "From 2006 to 2015, 671 from 788 high-level movies are single-genre in the field of Drama, Documentary, and Comedy, so about 85% of high-level movies are one of these genres. Within the high-level single-genre movies, music movies are best rated in the period from 2006-2015. Among the high-level cross-genre movies, movies with the genre combination of Drama|Horror|Mystery|Science Fiction|Thriller got highest ratings.\n",
    "\n",
    "### Q1b:\n",
    "On average, movies released in 2015 got higher ratings than the years before. In the period from 2006-2015, single-genre movies were rated higher than the cross-genre movies for each year. \n",
    " \n",
    "### Q2a:\n",
    "From 2006 to 2015, most of the production companies (including all of the combinations within the production companies) are rated in the range from 5 to 6.5 on average, the distribution is slightly left-skewed, the median is greater than the mean.\n",
    " \n",
    "### Q2b:\n",
    "From 2006 to 2015, coproduction movies got higher ratings on average, the mean rating of coproduction movies is at 5.91 and the mean rating of single production movies is at 5.84. The coproduction movies from the combination SMV Enterprises|Columbia Music Video|EMI got the highest rating of 8.7. Best rated single production movies only got 8.3 on average. \n",
    "\n",
    "\n",
    "> **Tip**: Finally, summarize your findings and the results that have been performed. Make sure that you are clear with regards to the limitations of your exploration. If you haven't done any statistical tests, do not imply any statistical conclusions. And make sure you avoid implying causation from correlation!\n",
    "\n",
    "> **Tip**: Once you are satisfied with your work here, check over your report to make sure that it is satisfies all the areas of the rubric (found on the project submission page at the end of the lesson). You should also probably remove all of the \"Tips\" like this one so that the presentation is as polished as possible.\n",
    "\n",
    "## Submitting your Project \n",
    "\n",
    "> Before you submit your project, you need to create a .html or .pdf version of this notebook in the workspace here. To do that, run the code cell below. If it worked correctly, you should get a return code of 0, and you should see the generated .html file in the workspace directory (click on the orange Jupyter icon in the upper left).\n",
    "\n",
    "> Alternatively, you can download this report as .html via the **File** > **Download as** submenu, and then manually upload it into the workspace directory by clicking on the orange Jupyter icon in the upper left, then using the Upload button.\n",
    "\n",
    "> Once you've done this, you can submit your project by clicking on the \"Submit Project\" button in the lower right here. This will create and submit a zip file with this .ipynb doc and the .html or .pdf version you created. Congratulations!"
   ]
  },
  {
   "cell_type": "code",
   "execution_count": 595,
   "metadata": {},
   "outputs": [
    {
     "data": {
      "text/plain": [
       "0"
      ]
     },
     "execution_count": 595,
     "metadata": {},
     "output_type": "execute_result"
    }
   ],
   "source": [
    "from subprocess import call\n",
    "call(['python', '-m', 'nbconvert', 'Investigate_a_Dataset.ipynb'])"
   ]
  },
  {
   "cell_type": "code",
   "execution_count": null,
   "metadata": {},
   "outputs": [],
   "source": []
  }
 ],
 "metadata": {
  "kernelspec": {
   "display_name": "Python 3",
   "language": "python",
   "name": "python3"
  },
  "language_info": {
   "codemirror_mode": {
    "name": "ipython",
    "version": 3
   },
   "file_extension": ".py",
   "mimetype": "text/x-python",
   "name": "python",
   "nbconvert_exporter": "python",
   "pygments_lexer": "ipython3",
   "version": "3.6.3"
  }
 },
 "nbformat": 4,
 "nbformat_minor": 2
}
